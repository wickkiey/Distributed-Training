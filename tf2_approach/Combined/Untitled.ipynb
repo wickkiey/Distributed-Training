{
 "cells": [
  {
   "cell_type": "code",
   "execution_count": 1,
   "id": "09b7e693",
   "metadata": {},
   "outputs": [],
   "source": [
    "import tensorflow as tf"
   ]
  },
  {
   "cell_type": "code",
   "execution_count": 29,
   "id": "aeb91da6",
   "metadata": {},
   "outputs": [],
   "source": [
    "import os"
   ]
  },
  {
   "cell_type": "code",
   "execution_count": 36,
   "id": "c5e6ac49",
   "metadata": {},
   "outputs": [],
   "source": [
    "trainlist = [\"CarsTrees-TFRecords-export/train/\" + f for f in os.listdir(\"CarsTrees-TFRecords-export/train/\")]\n",
    "testlist = [\"CarsTrees-TFRecords-export/test/\" + f for f in os.listdir(\"CarsTrees-TFRecords-export/test/\")]"
   ]
  },
  {
   "cell_type": "code",
   "execution_count": 37,
   "id": "0b43a092",
   "metadata": {},
   "outputs": [],
   "source": [
    "train_data = tf.data.TFRecordDataset(trainlist)"
   ]
  },
  {
   "cell_type": "code",
   "execution_count": 38,
   "id": "1a4f8345",
   "metadata": {},
   "outputs": [],
   "source": [
    "test_data = tf.data.TFRecordDataset(testlist)"
   ]
  },
  {
   "cell_type": "code",
   "execution_count": 39,
   "id": "ad5676fd",
   "metadata": {},
   "outputs": [
    {
     "data": {
      "text/plain": [
       "<TakeDataset shapes: (), types: tf.string>"
      ]
     },
     "execution_count": 39,
     "metadata": {},
     "output_type": "execute_result"
    }
   ],
   "source": [
    "train_data.take(1)"
   ]
  },
  {
   "cell_type": "code",
   "execution_count": 41,
   "id": "fc78882a",
   "metadata": {},
   "outputs": [],
   "source": [
    "train_data = train_data.batch(4)"
   ]
  },
  {
   "cell_type": "code",
   "execution_count": null,
   "id": "e2d836b2",
   "metadata": {},
   "outputs": [],
   "source": [
    "\n"
   ]
  },
  {
   "cell_type": "code",
   "execution_count": 42,
   "id": "34925680",
   "metadata": {},
   "outputs": [
    {
     "data": {
      "text/plain": [
       "<BatchDataset shapes: (None,), types: tf.string>"
      ]
     },
     "execution_count": 42,
     "metadata": {},
     "output_type": "execute_result"
    }
   ],
   "source": [
    "train_data"
   ]
  },
  {
   "cell_type": "code",
   "execution_count": null,
   "id": "d0481963",
   "metadata": {},
   "outputs": [],
   "source": []
  }
 ],
 "metadata": {
  "kernelspec": {
   "display_name": "Python 3",
   "language": "python",
   "name": "python3"
  },
  "language_info": {
   "codemirror_mode": {
    "name": "ipython",
    "version": 3
   },
   "file_extension": ".py",
   "mimetype": "text/x-python",
   "name": "python",
   "nbconvert_exporter": "python",
   "pygments_lexer": "ipython3",
   "version": "3.8.8"
  }
 },
 "nbformat": 4,
 "nbformat_minor": 5
}
